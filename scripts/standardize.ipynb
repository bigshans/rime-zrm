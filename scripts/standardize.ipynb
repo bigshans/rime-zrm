{
 "cells": [
  {
   "cell_type": "markdown",
   "id": "a961dd95-7a80-48f3-b43a-036e7b1500a9",
   "metadata": {},
   "source": [
    "# 偏旁规范化以及去重\n",
    "\n",
    "偏旁规范化，指的是让辅助码更符合 `zrm2000` 的映射规则，以此降低一个字同时对应多组辅助码的问题，从而减少重码。\n",
    "\n",
    "- **部首** 与 *偏旁* 的区别: [高的偏旁部首为什么是高(高是偏旁部首吗) - 儿童教育](http://www.xychild.com/zhongxiaoxue/shuokepingke/5750.html)\n",
    "\n",
    "- 如果一个字由部首(可以理解为\"主要\"的偏旁)和其它部分(也是偏旁), \"自然码+辅助码\"的第三码取做部首, 第四码取为最后一个偏旁.\n",
    "\n",
    "- 如果一个字本身就是部首, 即独体字, 不能进一步拆分出部件, 只能由笔画构成. \"自然码+辅助码\"的第三码是第一笔, 第四码是最后一笔.\n",
    "\n",
    "`zrm2000` 的键位可参考以下链接：\n",
    "\n",
    "1. https://www.liuchuo.net/archives/2847\n",
    "\n",
    "2. https://zhuanlan.zhihu.com/p/122866844\n",
    "\n",
    "3. 键位图 https://blog.csdn.net/pmo992/article/details/104963648\n",
    "\n",
    "\n",
    "如果一个文件(比如 `zrm-pinyin.dict.yaml`) 存在一个字同一发音多个辅码的情况，比如说 `星` 字，有 `xy;ou` 和 `xy;ru` 两个码，则可以通过\n",
    "\n",
    "1. 用 `reShape` 函数对 `zrm-pinyin.dict.yaml` 操作 `xy;ru -> xy;ou`，输出至文件 `zrm-pinyin.temp.dict.yaml`。\n",
    "\n",
    "2. 用 `rmRepeat` 函数对 `zrm-pinyin.temp.dict.yaml` 操作干掉重复的 entry，输出至文件 `zrm-pinyin.wanted.dict.yaml`。\n",
    "\n",
    "3. 备份原来的 `zrm-pinyin.dict.yaml`，再手动重命名 `zrm-pinyin.wanted.dict.yaml -> zrm-pinyin.dict.yaml` ，rime就会拿这个新文件当字典来用"
   ]
  },
  {
   "cell_type": "markdown",
   "id": "385a18e4-c4f7-4cab-aa15-c644534c2566",
   "metadata": {
    "tags": []
   },
   "source": [
    "## 1. 拆字准备\n",
    "\n",
    "需要下载的外部 python package: \n",
    "\n",
    "1. [miaoluda/hanzi_chaizi forked from howl-anderson/hanzi_chaizi](https://github.com/miaoluda/hanzi_chaizi/tree/patch-1)。请注意要下载的是 fork 版 **不要下载原版** ，否则以下必报错\n",
    "\n",
    "导入 `sys`, `HanziChaizi` 并且熟悉后者的拆字逻辑。"
   ]
  },
  {
   "cell_type": "markdown",
   "id": "352aea38-1529-4085-99e3-6e2abcd80b9d",
   "metadata": {},
   "source": [
    "### 1.1 有明显部首的字\n",
    "\n",
    "HanziChaizi 可以拆出大多数 *偏旁*, 但结果的第0个元素不一定是 **部首** :\n",
    "\n",
    "- '伍' 拆字之后的第0个元素是 '人', 是部首.\n",
    "- '变' 拆字之后的第0个元素是 '亦', 是偏旁, *不是部首*."
   ]
  },
  {
   "cell_type": "code",
   "execution_count": 3,
   "id": "df9974ad-8c29-4b70-8114-53003ed7155a",
   "metadata": {
    "tags": []
   },
   "outputs": [
    {
     "name": "stdout",
     "output_type": "stream",
     "text": [
      "['人', '五']\n",
      "['亦', '又']\n"
     ]
    }
   ],
   "source": [
    "import sys\n",
    "\n",
    "# 外部包 miaoluda/hanzi_chaizi 默认放到 scripts 目录之下\n",
    "# 如果报错, 就把下面这行换成你下载的 miaoluda/hanzi_chaizi 的本地位置:\n",
    "sys.path.append(\"./hanzi_chaizi\")\n",
    "from hanzi_chaizi import HanziChaizi\n",
    "\n",
    "hc = HanziChaizi()\n",
    "# 测试以下拆字结果，比如 亻 旁，输出的就是个正常的 “人”。注意这种输出的匹配，\n",
    "# 不要不加测试就盲目的拿 “亻” 去下面的代码 run，那样会毫无效果\n",
    "result = hc.query('伍')\n",
    "\n",
    "print(result)\n",
    "print(hc.query('变'))"
   ]
  },
  {
   "cell_type": "markdown",
   "id": "3a7e66c5-e27d-4e0b-a92b-93f18306d212",
   "metadata": {},
   "source": [
    "### 1.2 独体字\n",
    "一般是部首汉字，如：“金木水火土辶皿马皮日月目衣耳”等。独体字全部看成部首，不能进一步拆分出部件，只能由笔画构成。\n",
    "对于这类字, 不要用 HanziChaizi 的结果!"
   ]
  },
  {
   "cell_type": "code",
   "execution_count": 2,
   "id": "dbdb4a4f-39b2-4eab-8432-11dd8437d815",
   "metadata": {
    "tags": []
   },
   "outputs": [
    {
     "data": {
      "text/plain": [
       "['囗', '十']"
      ]
     },
     "execution_count": 2,
     "metadata": {},
     "output_type": "execute_result"
    }
   ],
   "source": [
    "hc.query('由')"
   ]
  },
  {
   "cell_type": "markdown",
   "id": "5646111e-1206-4dc5-b479-67ee09b92e1f",
   "metadata": {},
   "source": [
    "### 1.3 ”拆不动“的字\n",
    "\n",
    "大部分为独体字或者 HanziChaizi 未收录的字, 输出 `None`"
   ]
  },
  {
   "cell_type": "code",
   "execution_count": 3,
   "id": "dce280d3-091f-4792-94b0-357e0a086d59",
   "metadata": {
    "tags": []
   },
   "outputs": [
    {
     "name": "stdout",
     "output_type": "stream",
     "text": [
      "None\n"
     ]
    }
   ],
   "source": [
    "print(hc.query('一'))"
   ]
  },
  {
   "cell_type": "markdown",
   "id": "0882ea00-3a57-49d5-9979-76cb6ec16b2a",
   "metadata": {},
   "source": [
    "对一些极少使用的字有误伤，后果不严重。"
   ]
  },
  {
   "cell_type": "code",
   "execution_count": 4,
   "id": "73e0c4e9-aff5-4677-8863-782bf3a04956",
   "metadata": {
    "tags": []
   },
   "outputs": [
    {
     "name": "stdout",
     "output_type": "stream",
     "text": [
      "['攸', '魚']\n",
      "None\n"
     ]
    }
   ],
   "source": [
    "print(hc.query('鯈'))\n",
    "print(hc.query('擜'))"
   ]
  },
  {
   "cell_type": "code",
   "execution_count": 11,
   "id": "b58daf91-97e6-4c72-a102-8ede200b037b",
   "metadata": {
    "tags": []
   },
   "outputs": [
    {
     "name": "stdout",
     "output_type": "stream",
     "text": [
      "['肉', '旁']\n",
      "['肉', '辟']\n",
      "['敝', '目']\n",
      "['手', '達']\n"
     ]
    }
   ],
   "source": [
    "print(hc.query('膀'))\n",
    "print(hc.query('臂'))\n",
    "print(hc.query('瞥'))\n",
    "print(hc.query('撻'))"
   ]
  },
  {
   "cell_type": "markdown",
   "id": "89e6fec3-5688-4fec-b77e-c6fb8c402d4e",
   "metadata": {},
   "source": [
    "## 2. 构造用于分析文件的函数\n",
    "\n",
    "主要思路：for循环 + if条件判断。\n",
    "\n",
    "`reShape()` 函数用于规范化第三码(部首码，也就是分号后面第一辅助码), 目前暂未考虑分号后第二辅助码，以后可能再出个 `reShape2()` 用来改进。\n",
    "\n",
    "`rmRepeat()` 函数用于去除“完全重复的编码”。"
   ]
  },
  {
   "cell_type": "code",
   "execution_count": 1,
   "id": "f8a32974-dfd9-4970-afed-34ebaa69541f",
   "metadata": {
    "tags": []
   },
   "outputs": [],
   "source": [
    "def reShape(src, temp):\n",
    "    # 重新map辅助码中的 部首 \n",
    "    # src: \"input dict\" ; dst: \"new file name for the output dict\"\n",
    "    with open(src, \"r\", encoding=\"utf-8\") as f1:\n",
    "        with open(temp, \"w\", encoding=\"utf-8\") as f2:\n",
    "            for line in f1:\n",
    "                    \n",
    "                # 如果缺失换行符 \\n，则添加 \\n.\n",
    "                if '\\n' not in line: \n",
    "                    line2 = line + '\\n'  \n",
    "                \n",
    "                # line[0] 不是汉字，或者“不能拆”\n",
    "                if line[0].isascii() or hc.query(line[0]) is None: \n",
    "                    # 该条件已包含以'\\n'开头的空行\n",
    "                    line2 = line\n",
    "                \n",
    "                # line[0] 是“可以拆”的汉字，开始拆偏旁\n",
    "                # line[5] 就是每行分号后的第一辅码（下称第三码）\n",
    "                # 第三码为 ;r，则可能为 双立人，单立人，日，其他\n",
    "                elif line[5]=='r':\n",
    "                    # 判为'行'字旁(左)，第三码 r -> x\n",
    "                    if hc.query(line[0])[0]=='彳':\n",
    "                        line2 = line.replace(';r', ';x')\n",
    "                    # 判为'人'字旁(左)，第三码原样输出 ;r。\n",
    "                    # e.g. 为了防止\"傝\"字（ = 人+日+etc）被改成 ;o\n",
    "                    elif hc.query(line[0])[0]=='人':\n",
    "                        line2 = line\n",
    "                    # 判为'日'字旁，第三码 r -> o\n",
    "                    elif '日' in hc.query(line[0]):\n",
    "                        line2 = line.replace(';r', ';o')\n",
    "                    # 剩下的 ;r 原样输出\n",
    "                    else: \n",
    "                        line2 = line\n",
    "                # 判为'月'字旁 第三码 y -> o\n",
    "                elif line[5]=='y' and '肉' in hc.query(line[0]):\n",
    "                    line2 = line.replace(';y', ';o')\n",
    "                # 判为'目'字旁 第三码 m -> o\n",
    "                elif line[5]=='m' and '目' in hc.query(line[0]):\n",
    "                    line2 = line.replace(';m', ';o')\n",
    "                # 判为扶'手'旁(左) 第三码 t -> f\n",
    "                elif line[5]=='t' and hc.query(line[0])[0]=='手':\n",
    "                    line2 = line.replace(';t', ';f')\n",
    "                # 判为'亠'旁(上) 第三码 d -> w\n",
    "                elif line[5]=='d' and hc.query(line[0])[0]=='亠':\n",
    "                    line2 = line.replace(';d', ';w')\n",
    "                # 剩下的所有不关心的，原样输出\n",
    "                else: \n",
    "                    line2 = line\n",
    "                    \n",
    "                f2.write(line2)\n",
    "\n",
    "def reShape2(temp0, temp):\n",
    "    # 计划整理第四码，not finished\n",
    "    pass\n",
    "                \n",
    "def rmRepeat(temp, dst):\n",
    "    # 去重。\n",
    "    # src: \"input dict\" ; dst: \"new file name for the output dict\"\n",
    "    with open(temp, \"r\", encoding=\"utf-8\") as f1:\n",
    "        with open(dst, \"w\", encoding=\"utf-8\") as f2:\n",
    "            last_line = '\\n'\n",
    "            for line in f1:\n",
    "                if line == last_line:\n",
    "                    f2.write('')\n",
    "                else:\n",
    "                    f2.write(line)\n",
    "                last_line = line\n"
   ]
  },
  {
   "cell_type": "markdown",
   "id": "46be5fce-106d-414b-818f-0c95ea888cf8",
   "metadata": {},
   "source": [
    "## 3. 分析文件"
   ]
  },
  {
   "cell_type": "code",
   "execution_count": 5,
   "id": "e3e7e3f8-b173-44fd-a7ad-041e03be5dba",
   "metadata": {
    "tags": []
   },
   "outputs": [],
   "source": [
    "# temp.yaml 里面有“更符合规范”的码，但也有重复条目，因为 reShape() 没有删除任何一行！\n",
    "reShape('../zrm_pinyin.standard_unique.dict.yaml', 'temp.yaml')   \n",
    "\n",
    "# 去重, 并且(可选)覆盖原来的文件. 这样得到有“更符合规范”的码，且无重复条目\n",
    "rmRepeat('temp.yaml', '../zrm_pinyin.standard_unique.dict.yaml')"
   ]
  },
  {
   "cell_type": "markdown",
   "id": "d90c95de-3148-4728-a8bf-3a149865259f",
   "metadata": {},
   "source": [
    "经过上述过程, 第三码(部首/首个偏旁)得到了部分纠正, 而第四码(末个偏旁)未被调整. \n",
    "\n",
    "所以肯定仍然存在不准确的码. 欢迎提issue, 以便完善筛选部首的函数, 以及为第四码的错码找规律. "
   ]
  },
  {
   "cell_type": "markdown",
   "id": "b3752ca7-1f6f-4a67-b275-e0bea113d763",
   "metadata": {},
   "source": [
    "## 4. 可能有错的编码\n",
    "\n",
    "- 独体字, 如前所述, HanziChaizi 拆不准\n",
    "    - 需要手动修改, 比如 '文', '方', '立' 等字, 应该按笔画拆分, 而不是提取 '亠' 作为部首.\n",
    "- 生僻字, HanziChaizi 拆不了 (输出 None)\n",
    "- 有部首的汉字, 但是拆错了部首. 比如\"仅\", 可能错把偏旁\"又\"当成了部首(正确的部首应该是\"人\")."
   ]
  }
 ],
 "metadata": {
  "kernelspec": {
   "display_name": "Python 3 (ipykernel)",
   "language": "python",
   "name": "python3"
  },
  "language_info": {
   "codemirror_mode": {
    "name": "ipython",
    "version": 3
   },
   "file_extension": ".py",
   "mimetype": "text/x-python",
   "name": "python",
   "nbconvert_exporter": "python",
   "pygments_lexer": "ipython3",
   "version": "3.10.11"
  }
 },
 "nbformat": 4,
 "nbformat_minor": 5
}
