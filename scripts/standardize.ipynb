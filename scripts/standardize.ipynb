{
 "cells": [
  {
   "cell_type": "markdown",
   "id": "a961dd95-7a80-48f3-b43a-036e7b1500a9",
   "metadata": {},
   "source": [
    "# 偏旁规范化以及去重\n",
    "\n",
    "偏旁规范化，指的是让辅助码更符合 `zrm2000` 的映射规则，以此降低一个字同时对应多组辅助码的问题，从而减少重码。\n",
    "\n",
    "`zrm2000` 的键位可参考以下链接：\n",
    "\n",
    "1. https://www.liuchuo.net/archives/2847\n",
    "\n",
    "2. https://zhuanlan.zhihu.com/p/122866844\n",
    "\n",
    "3. 键位图 https://blog.csdn.net/pmo992/article/details/104963648\n",
    "\n",
    "\n",
    "举个例子，我们这个方案默认的 `zrm-pinyin.dict.yaml` 里面如果存在同音多辅码的情况，比如说 `星` 字，有 `xy;ou` 和 `xy;ru` 两个码，则可以通过\n",
    "\n",
    "1. 用 `reShape` 函数对 `zrm-pinyin.dict.yaml` 操作 `xy;ru -> xy;ou`，输出至文件 `zrm-pinyin.temp.dict.yaml`。\n",
    "\n",
    "2. 用 `rmRepeat` 函数对 `zrm-pinyin.temp.dict.yaml` 操作干掉重复的 entry，输出至文件 `zrm-pinyin.wanted.dict.yaml`。\n",
    "\n",
    "3. 备份原来的 `zrm-pinyin.dict.yaml`，再手动重命名 `zrm-pinyin.wanted.dict.yaml -> zrm-pinyin.dict.yaml` ，rime就会拿这个新文件当字典来用"
   ]
  },
  {
   "cell_type": "markdown",
   "id": "385a18e4-c4f7-4cab-aa15-c644534c2566",
   "metadata": {},
   "source": [
    "## 拆字准备\n",
    "\n",
    "需要下载的外部 python package: \n",
    "\n",
    "1. [miaoluda/hanzi_chaizi forked from howl-anderson/hanzi_chaizi](https://github.com/miaoluda/hanzi_chaizi/tree/patch-1)。请注意要下载的是 fork 版 **不要下载原版** ，否则以下必报错\n",
    "\n",
    "导入 `sys`, `HanziChaizi` 并且熟悉后者的拆字逻辑。"
   ]
  },
  {
   "cell_type": "code",
   "execution_count": 1,
   "id": "df9974ad-8c29-4b70-8114-53003ed7155a",
   "metadata": {
    "tags": []
   },
   "outputs": [
    {
     "name": "stdout",
     "output_type": "stream",
     "text": [
      "['人', '五']\n"
     ]
    }
   ],
   "source": [
    "import sys\n",
    "\n",
    "# # you can this line with your location of miaoluda/hanzi_chaizi package:\n",
    "sys.path.append(\"./hanzi_chaizi\")\n",
    "from hanzi_chaizi import HanziChaizi\n",
    "\n",
    "hc = HanziChaizi()\n",
    "# 测试以下拆字结果，比如 亻 旁，输出的就是个正常的 “人”。注意这种输出的匹配，\n",
    "# 不要不加测试就盲目的拿 “亻” 去下面的代码 run，那样会毫无效果\n",
    "result = hc.query('伍')\n",
    "\n",
    "print(result)"
   ]
  },
  {
   "cell_type": "code",
   "execution_count": 2,
   "id": "dbdb4a4f-39b2-4eab-8432-11dd8437d815",
   "metadata": {
    "tags": []
   },
   "outputs": [
    {
     "data": {
      "text/plain": [
       "['囗', '十']"
      ]
     },
     "execution_count": 2,
     "metadata": {},
     "output_type": "execute_result"
    }
   ],
   "source": [
    "hc.query('由')"
   ]
  },
  {
   "cell_type": "markdown",
   "id": "5646111e-1206-4dc5-b479-67ee09b92e1f",
   "metadata": {},
   "source": [
    "”拆不动“的字，输出 `None`"
   ]
  },
  {
   "cell_type": "code",
   "execution_count": 3,
   "id": "dce280d3-091f-4792-94b0-357e0a086d59",
   "metadata": {
    "tags": []
   },
   "outputs": [
    {
     "name": "stdout",
     "output_type": "stream",
     "text": [
      "None\n"
     ]
    }
   ],
   "source": [
    "print(hc.query('一'))"
   ]
  },
  {
   "cell_type": "markdown",
   "id": "0882ea00-3a57-49d5-9979-76cb6ec16b2a",
   "metadata": {},
   "source": [
    "对一些极少使用的字有误伤，后果不严重。"
   ]
  },
  {
   "cell_type": "code",
   "execution_count": 4,
   "id": "73e0c4e9-aff5-4677-8863-782bf3a04956",
   "metadata": {
    "tags": []
   },
   "outputs": [
    {
     "name": "stdout",
     "output_type": "stream",
     "text": [
      "['攸', '魚']\n",
      "None\n"
     ]
    }
   ],
   "source": [
    "print(hc.query('鯈'))\n",
    "print(hc.query('擜'))"
   ]
  },
  {
   "cell_type": "code",
   "execution_count": 11,
   "id": "b58daf91-97e6-4c72-a102-8ede200b037b",
   "metadata": {
    "tags": []
   },
   "outputs": [
    {
     "name": "stdout",
     "output_type": "stream",
     "text": [
      "['肉', '旁']\n",
      "['肉', '辟']\n",
      "['敝', '目']\n",
      "['手', '達']\n"
     ]
    }
   ],
   "source": [
    "print(hc.query('膀'))\n",
    "print(hc.query('臂'))\n",
    "print(hc.query('瞥'))\n",
    "print(hc.query('撻'))"
   ]
  },
  {
   "cell_type": "markdown",
   "id": "89e6fec3-5688-4fec-b77e-c6fb8c402d4e",
   "metadata": {},
   "source": [
    "## 函数设计\n",
    "\n",
    "主要思路：for循环 + if条件判断。\n",
    "\n",
    "`reShape()` 函数用于规范化第三码（偏旁，也就是分号后面第一个辅助码），目前暂未考虑分号后面第二个辅助码，以后可能再出个 `reShape2()` 用来改进。\n",
    "\n",
    "`rmRepeat()` 函数用于去除“完全重复的编码”。"
   ]
  },
  {
   "cell_type": "code",
   "execution_count": 12,
   "id": "f8a32974-dfd9-4970-afed-34ebaa69541f",
   "metadata": {
    "tags": []
   },
   "outputs": [],
   "source": [
    "def reShape(src, temp):\n",
    "    # 重新map辅助码。 \n",
    "    # src: \"input dict\" ; dst: \"new file name for the output dict\"\n",
    "    with open(src, \"r\", encoding=\"utf-8\") as f1:\n",
    "        with open(temp, \"w\", encoding=\"utf-8\") as f2:\n",
    "            for line in f1:\n",
    "                    \n",
    "                # 如果缺失换行符 \\n，则添加 \\n.\n",
    "                if '\\n' not in line: \n",
    "                    line2 = line + '\\n'  \n",
    "                \n",
    "                # line[0] 不是汉字，或者“不能拆”\n",
    "                if line[0].isascii() or hc.query(line[0]) is None: \n",
    "                    # 该条件已包含以'\\n'开头的空行\n",
    "                    line2 = line\n",
    "                \n",
    "                # line[0] 是“可以拆”的汉字，开始拆偏旁\n",
    "                # line[5] 就是每行分号后的第一辅码（下称第三码）\n",
    "                # 第三码为 ;r，则可能为 双立人，单立人，日，其他\n",
    "                elif line[5]=='r':\n",
    "                    # 判为'行'字旁(左)，第三码应为 ;x\n",
    "                    if hc.query(line[0])[0]=='彳':\n",
    "                        line2 = line.replace(';r', ';x')\n",
    "                    # 判为'人'字旁(左)，第三码原样输出 ;r。\n",
    "                    # e.g. 为了防止\"傝\"字（ = 人+日+etc）被改成 ;o\n",
    "                    elif hc.query(line[0])[0]=='人':\n",
    "                        line2 = line\n",
    "                    # 判为'日'字旁，第三码应为 ;o\n",
    "                    elif '日' in hc.query(line[0]):\n",
    "                        line2 = line.replace(';r', ';o')\n",
    "                    # 剩下的 ;r 原样输出\n",
    "                    else: \n",
    "                        line2 = line\n",
    "                # 判为'月'字旁 第三码应为 ;o\n",
    "                elif line[5]=='y' and '肉' in hc.query(line[0]):\n",
    "                    line2 = line.replace(';y', ';o')\n",
    "                # 判为'目'字旁 第三码应为 ;o\n",
    "                elif line[5]=='m' and '目' in hc.query(line[0]):\n",
    "                    line2 = line.replace(';m', ';o')\n",
    "                # 判为扶'手'旁(左) 第三码应为 ;f\n",
    "                elif line[5]=='t' and hc.query(line[0])[0]=='手':\n",
    "                    line2 = line.replace(';t', ';f')\n",
    "                # 剩下的所有不关心的，原样输出\n",
    "                else: \n",
    "                    line2 = line\n",
    "                    \n",
    "                f2.write(line2)\n",
    "\n",
    "def reShape2(temp0, temp):\n",
    "    # 计划整理第四码，not finished\n",
    "    pass\n",
    "                \n",
    "def rmRepeat(temp, dst):\n",
    "    # 去重。\n",
    "    # src: \"input dict\" ; dst: \"new file name for the output dict\"\n",
    "    with open(temp, \"r\", encoding=\"utf-8\") as f1:\n",
    "        with open(dst, \"w\", encoding=\"utf-8\") as f2:\n",
    "            last_line = '\\n'\n",
    "            for line in f1:\n",
    "                if line == last_line:\n",
    "                    f2.write('')\n",
    "                else:\n",
    "                    f2.write(line)\n",
    "                last_line = line\n"
   ]
  },
  {
   "cell_type": "markdown",
   "id": "46be5fce-106d-414b-818f-0c95ea888cf8",
   "metadata": {},
   "source": [
    "实操环节："
   ]
  },
  {
   "cell_type": "code",
   "execution_count": 13,
   "id": "e3e7e3f8-b173-44fd-a7ad-041e03be5dba",
   "metadata": {
    "tags": []
   },
   "outputs": [],
   "source": [
    "# temp.yaml 里面有“更符合规范”的码，但也有重复条目，因为 reShape() 没有删除任何一行！\n",
    "reShape('../zrm_pinyin.utf8-lite.dict.yaml', 'temp.yaml')   \n",
    "\n",
    "# zrm_pinyin.output.dict.yaml 里面有“更符合规范”的码，且无重复条目\n",
    "rmRepeat('temp.yaml', '../zrm_pinyin.standard_utf8_lite.dict.yaml')"
   ]
  },
  {
   "cell_type": "markdown",
   "id": "d90c95de-3148-4728-a8bf-3a149865259f",
   "metadata": {},
   "source": [
    "这些函数已经能把大多数的辅助码还原成自然码原来应有的样子，如果有误判或遗漏，欢迎提issue，以便完善上面的 `reShape()` 函数中的if判断。"
   ]
  }
 ],
 "metadata": {
  "kernelspec": {
   "display_name": "Python 3 (ipykernel)",
   "language": "python",
   "name": "python3"
  },
  "language_info": {
   "codemirror_mode": {
    "name": "ipython",
    "version": 3
   },
   "file_extension": ".py",
   "mimetype": "text/x-python",
   "name": "python",
   "nbconvert_exporter": "python",
   "pygments_lexer": "ipython3",
   "version": "3.10.11"
  }
 },
 "nbformat": 4,
 "nbformat_minor": 5
}
