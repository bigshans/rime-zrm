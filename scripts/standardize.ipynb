{
 "cells": [
  {
   "cell_type": "markdown",
   "id": "a961dd95-7a80-48f3-b43a-036e7b1500a9",
   "metadata": {},
   "source": [
    "# 偏旁规范化以及去重\n",
    "\n",
    "偏旁规范化, 指的是让辅助码更符合 `zrm2000` 的映射规则, 以此降低一个字同时对应多组辅助码的问题, 从而减少重码. 对于大多数汉字, 自然码的辅助码取决于部首和偏旁.\n",
    "\n",
    "- [**部首** 与 *偏旁* 的区别 --- 以'高'为例](http://www.xychild.com/zhongxiaoxue/shuokepingke/5750.html)\n",
    "- 如果一个字由部首(可以理解为\"主要\"的偏旁)和其它部分(也是偏旁), \"自然码+辅助码\"的第三码取做部首, 第四码取为最后一个偏旁.\n",
    "- 如果一个字本身就是部首, 即独体字, 不能进一步拆分出部件, 只能由笔画构成. \"自然码+辅助码\"的第三码是第一笔, 第四码是最后一笔.\n",
    "\n",
    "部首和偏旁在`zrm2000`方案中对应的辅助码和键位, 可参考以下链接：\n",
    "\n",
    "1. 官方链接: [自然码2000手册](http://ziranma.com.cn/uiysuomy.htm)\n",
    "2. 民间整理: \n",
    "    - [【双拼输入法】自然码辅助码入门教程（辅助码表）](https://www.liuchuo.net/archives/2847)\n",
    "    - [双拼自然码辅助码方案及键位分布](https://zhuanlan.zhihu.com/p/122866844)\n",
    "    - [自然码辅助码键位图](https://blog.csdn.net/pmo992/article/details/104963648)\n",
    "\n",
    "\n",
    "如果一个文件(比如 `zrm-pinyin.dict.yaml`) 存在一个字同一发音多个辅码的情况, 比如说 `星` 字, 有 `xy;ou` 和 `xy;ru` 两个码, 则可以通过如下方法将辅助码统一到 `xy;ou`, 并且移除重复条目.\n",
    " \n",
    "1. 用`reShape`函数对`zrm-pinyin.dict.yaml`修改, 将辅助码重新映射以符合规范(例如`xy;ru -> xy;ou`), 输出至文件`zrm-pinyin.temp.dict.yaml`. \n",
    "2. 用`rmRepeat`函数对`zrm-pinyin.temp.dict.yaml`操作, 对相邻行且重复的条目进行去重, 输出至文件`zrm-pinyin.wanted.dict.yaml`. \n",
    "3. 删除(或备份)原来的`zrm-pinyin.dict.yaml`, 再手动重命名`zrm-pinyin.wanted.dict.yaml -> zrm-pinyin.dict.yaml`, rime就会使用这个新的字典."
   ]
  },
  {
   "cell_type": "markdown",
   "id": "385a18e4-c4f7-4cab-aa15-c644534c2566",
   "metadata": {
    "tags": []
   },
   "source": [
    "## 1. 拆字准备\n",
    "\n",
    "通过`pip`安装`cnradical`, 这个软件包用于获取汉字的部首."
   ]
  },
  {
   "cell_type": "markdown",
   "id": "352aea38-1529-4085-99e3-6e2abcd80b9d",
   "metadata": {},
   "source": [
    "### 1.1 有明显部首的字\n",
    "\n",
    "`cnradical`可以正确地拆出大多数部首."
   ]
  },
  {
   "cell_type": "code",
   "execution_count": 25,
   "id": "df9974ad-8c29-4b70-8114-53003ed7155a",
   "metadata": {
    "tags": []
   },
   "outputs": [
    {
     "name": "stdout",
     "output_type": "stream",
     "text": [
      "亻\n",
      "又\n",
      "亠\n"
     ]
    }
   ],
   "source": [
    "import sys\n",
    "from cnradical import Radical, RunOption \n",
    "radical = Radical(RunOption.Radical) #获取偏旁 \n",
    "# 测试部首结果\n",
    "print(radical.trans_ch('伍'))\n",
    "print(radical.trans_ch('变'))\n",
    "print(radical.trans_ch('充'))"
   ]
  },
  {
   "cell_type": "code",
   "execution_count": 23,
   "id": "b58daf91-97e6-4c72-a102-8ede200b037b",
   "metadata": {
    "tags": []
   },
   "outputs": [
    {
     "name": "stdout",
     "output_type": "stream",
     "text": [
      "月\n",
      "月\n",
      "目\n",
      "扌\n",
      "彳\n"
     ]
    }
   ],
   "source": [
    "print(radical.trans_ch('膀'))\n",
    "print(radical.trans_ch('臂'))\n",
    "print(radical.trans_ch('瞥'))\n",
    "print(radical.trans_ch('撻'))\n",
    "print(radical.trans_ch('循'))"
   ]
  },
  {
   "cell_type": "markdown",
   "id": "3a7e66c5-e27d-4e0b-a92b-93f18306d212",
   "metadata": {},
   "source": [
    "### 1.2 独体字\n",
    "一般是部首汉字, 如：“金木水火土辶皿马皮日月目衣耳”等. 独体字全部看成部首, 不能进一步拆分出部件, 只能由笔画构成. \n",
    "对于这类字, `cnradical`可能不准."
   ]
  },
  {
   "cell_type": "code",
   "execution_count": 11,
   "id": "dbdb4a4f-39b2-4eab-8432-11dd8437d815",
   "metadata": {
    "tags": []
   },
   "outputs": [
    {
     "data": {
      "text/plain": [
       "'田'"
      ]
     },
     "execution_count": 11,
     "metadata": {},
     "output_type": "execute_result"
    }
   ],
   "source": [
    "radical.trans_ch('由')"
   ]
  },
  {
   "cell_type": "markdown",
   "id": "5646111e-1206-4dc5-b479-67ee09b92e1f",
   "metadata": {},
   "source": [
    "### 1.3 ”拆不动“的字\n",
    "\n",
    "- 独体字, 自身即部首.\n",
    "- `cnradical`未收录的字, 输出自不准确."
   ]
  },
  {
   "cell_type": "code",
   "execution_count": 16,
   "id": "29a20176-7ab8-4d05-9b85-46b6fdacd1e8",
   "metadata": {
    "tags": []
   },
   "outputs": [
    {
     "name": "stdout",
     "output_type": "stream",
     "text": [
      "一\n",
      "禾\n",
      "魚\n",
      "扌\n"
     ]
    }
   ],
   "source": [
    "print(radical.trans_ch('一'))\n",
    "print(radical.trans_ch('禾'))\n",
    "print(radical.trans_ch('鯈'))\n",
    "print(radical.trans_ch('擜'))"
   ]
  },
  {
   "cell_type": "markdown",
   "id": "92619183-5606-4b23-8923-7667fc03ee51",
   "metadata": {},
   "source": [
    "非汉字:"
   ]
  },
  {
   "cell_type": "code",
   "execution_count": 19,
   "id": "4dfc4b4f-4f6b-4898-aa2d-2ea0d797cc23",
   "metadata": {
    "tags": []
   },
   "outputs": [
    {
     "name": "stdout",
     "output_type": "stream",
     "text": [
      "None\n",
      "None\n",
      "None\n",
      "None\n"
     ]
    }
   ],
   "source": [
    "print(radical.trans_ch('a'))\n",
    "print(radical.trans_ch(' '))\n",
    "print(radical.trans_ch('\\t'))\n",
    "print(radical.trans_ch('\\n'))"
   ]
  },
  {
   "cell_type": "markdown",
   "id": "89e6fec3-5688-4fec-b77e-c6fb8c402d4e",
   "metadata": {},
   "source": [
    "## 2. 构造用于分析文件的函数\n",
    "\n",
    "主要思路：for循环 + if条件判断. \n",
    "\n",
    "`reShape()` 函数用于规范化第三码(部首辅助码). 目前暂未考虑第四码, 因为\"最后一个偏旁\"很难从程序上消除模糊性, 为了避免更多的模棱两可, 所有字的第四码一律不做修改.\n",
    "\n",
    "`rmRepeat()` 函数用于去除 行数相差小于或等于10行 且 完全重复 的编码条目. "
   ]
  },
  {
   "cell_type": "code",
   "execution_count": 29,
   "id": "f8a32974-dfd9-4970-afed-34ebaa69541f",
   "metadata": {
    "tags": []
   },
   "outputs": [],
   "source": [
    "def reShape(src, temp):\n",
    "    # 重新map辅助码中的 部首 \n",
    "    # src: \"input dict\" ; dst: \"new file name for the output dict\"\n",
    "    with open(src, \"r\", encoding=\"utf-8\") as f1, \\\n",
    "    open(temp, \"w\", encoding=\"utf-8\") as f2:\n",
    "        for line in f1:\n",
    "\n",
    "            # 如果缺失换行符 \\n, 则添加 \\n.\n",
    "            if '\\n' not in line: \n",
    "                line2 = line + '\\n'  \n",
    "\n",
    "            bs = radical.trans_ch(line[0]) # 部首\n",
    "            # line[0] 不是汉字, 或者“不能拆”\n",
    "            if line[0].isascii() or bs is None: \n",
    "                # 该条件已包含以'\\n'开头的空行\n",
    "                line2 = line\n",
    "\n",
    "            # line[0] 是“可以拆”的汉字, 开始拆偏旁\n",
    "            # line[5] 就是每行分号后的第一辅码（下称第三码）\n",
    "            # 第三码为 ;r, 则可能为 双立人, 单立人, 日, 其他\n",
    "            elif line[5]=='r':\n",
    "                # 判为'彳'字旁, 第三码 r -> x\n",
    "                if bs=='彳':\n",
    "                    line2 = line.replace(';r', ';x')\n",
    "                # 判为'亻'字旁, 第三码原样输出 ;r\n",
    "                elif bs=='亻':\n",
    "                    line2 = line\n",
    "                # 判为'日'字旁, 第三码 r -> o\n",
    "                elif bs=='日':\n",
    "                    line2 = line.replace(';r', ';o')\n",
    "                # 剩下的 ;r 原样输出\n",
    "                else: \n",
    "                    line2 = line\n",
    "            # 判为'月'字旁 第三码 y -> o\n",
    "            elif line[5]=='y' and bs=='月':\n",
    "                line2 = line.replace(';y', ';o')\n",
    "            # 判为'目'字旁 第三码 m -> o\n",
    "            elif line[5]=='m' and bs=='目':\n",
    "                line2 = line.replace(';m', ';o')\n",
    "            # 判为扶'扌'旁 第三码 t -> f\n",
    "            elif line[5]=='t' and bs=='扌':\n",
    "                line2 = line.replace(';t', ';f')\n",
    "            # 判为'亠'旁(上) 第三码 d -> w\n",
    "            elif line[5]=='d' and bs=='亠':\n",
    "                line2 = line.replace(';d', ';w')\n",
    "            # '木'部首前置\n",
    "            elif line[6]=='m' and bs=='木':\n",
    "                line2 = line.replace(';'+line[5]+'m', ';m'+line[5])\n",
    "            # 剩下的所有不关心的, 原样输出\n",
    "            else: \n",
    "                line2 = line\n",
    "\n",
    "            f2.write(line2)\n",
    "\n",
    "def reShape2(temp0, temp):\n",
    "    # 计划整理第四码, not finished\n",
    "    pass\n",
    "                \n",
    "def rmRepeat(temp, dst):\n",
    "    # 去重. \n",
    "    # src: \"input dict\" ; dst: \"new file name for the output dict\"\n",
    "    with open(temp, \"r\", encoding=\"utf-8\") as f1, \\\n",
    "    open(dst, \"w\", encoding=\"utf-8\") as f2:\n",
    "        last10 = ['EMPTY\\n']*10\n",
    "        for line in f1:\n",
    "            if line not in last10:\n",
    "                f2.write(line)\n",
    "                last10 = last10[1:] + [line, ]"
   ]
  },
  {
   "cell_type": "markdown",
   "id": "46be5fce-106d-414b-818f-0c95ea888cf8",
   "metadata": {},
   "source": [
    "## 3. 分析文件"
   ]
  },
  {
   "cell_type": "code",
   "execution_count": 30,
   "id": "e3e7e3f8-b173-44fd-a7ad-041e03be5dba",
   "metadata": {
    "tags": []
   },
   "outputs": [],
   "source": [
    "reShape('../zrm_pinyin.standard_utf8_lite.dict.yaml', 'temp.yaml')   "
   ]
  },
  {
   "cell_type": "markdown",
   "id": "6609e00a-f29d-470a-98d1-96e949763c9b",
   "metadata": {},
   "source": [
    "进行完上一步之后, 可能需要手动修改不准确的辅码. \n",
    "\n",
    "下面一行用于去重. 可在这一步覆盖原来的文件. 这样得到有“更符合规范”的码, 且无重复条目"
   ]
  },
  {
   "cell_type": "code",
   "execution_count": 31,
   "id": "f19c6a73-259e-4b45-b632-c073de679013",
   "metadata": {
    "tags": []
   },
   "outputs": [],
   "source": [
    "rmRepeat('temp.yaml', '../zrm_pinyin.standard_utf8_lite.dict.yaml')"
   ]
  },
  {
   "cell_type": "markdown",
   "id": "d90c95de-3148-4728-a8bf-3a149865259f",
   "metadata": {},
   "source": [
    "经过上述过程, 第三码(部首/首个偏旁)得到了部分纠正, 而第四码(末个偏旁)未被调整. \n",
    "\n",
    "所以肯定仍然存在不准确的码. 欢迎提issue, 以便完善筛选部首的函数, 以及为第四码的错码找规律. "
   ]
  },
  {
   "cell_type": "markdown",
   "id": "b3752ca7-1f6f-4a67-b275-e0bea113d763",
   "metadata": {},
   "source": [
    "## 4. 可能有错的编码\n",
    "\n",
    "- 独体字, 如前所述, `cnradical`拆不准.\n",
    "    - 需要手动修改, 比如 '文', '方', '立' 等字, 应该按笔画拆分, 而不是提取 '亠' 作为部首.\n",
    "- 生僻字, `cnradical` 拆不准或拆不了.\n",
    "- 极少比例的第四码可能不正确, 因为`cnradical`只拆分部首. "
   ]
  },
  {
   "cell_type": "code",
   "execution_count": null,
   "id": "1abd3723-28ce-41fb-a381-896b63cec4c4",
   "metadata": {},
   "outputs": [],
   "source": []
  }
 ],
 "metadata": {
  "kernelspec": {
   "display_name": "Python 3 (ipykernel)",
   "language": "python",
   "name": "python3"
  },
  "language_info": {
   "codemirror_mode": {
    "name": "ipython",
    "version": 3
   },
   "file_extension": ".py",
   "mimetype": "text/x-python",
   "name": "python",
   "nbconvert_exporter": "python",
   "pygments_lexer": "ipython3",
   "version": "3.10.11"
  }
 },
 "nbformat": 4,
 "nbformat_minor": 5
}
